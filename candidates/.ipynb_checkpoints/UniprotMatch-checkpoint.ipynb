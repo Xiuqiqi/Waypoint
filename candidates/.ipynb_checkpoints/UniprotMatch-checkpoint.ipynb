{
 "cells": [
  {
   "cell_type": "code",
   "execution_count": 39,
   "metadata": {
    "collapsed": true
   },
   "outputs": [],
   "source": [
    "#!/usr/bin/env python\n",
    "from urllib.request import urlopen\n",
    "# This script takes in the uniprot information and search on the European Nucleotide Archive (ENA) and fetch the nucleotide sequences in Fasta.\n",
    "\n",
    "# Read the uniprot.tab and uniprot.txt\n",
    "#Utab=open(\"uniprot_reviewed.tab\",\"r\")\n",
    "Utxt=open(\"uniprot-reviewed.txt\",\"r\")\n",
    "\n",
    "accessionList=[]# This is the list that contains all the CDS accession number in ENA\n",
    "for line in Utxt:\n",
    "    index=line.find('CP001396')\n",
    "    if  index != -1:\n",
    "        accessionList.append(line[index+10:index+20])\n",
    "        #print(line[index+10:index+20])\n",
    "\n",
    "#print(len(accessionList))"
   ]
  },
  {
   "cell_type": "code",
   "execution_count": 38,
   "metadata": {},
   "outputs": [],
   "source": [
    "fasta = open('candidates.fa', 'w')\n",
    "\n",
    "# accquire the fasta file from ENA by the accession List\n",
    "for accession in accessionList:\n",
    "    link = \"https://www.ebi.ac.uk/ena/data/view/{}&display=fasta\".format(accessionList[0])\n",
    "    single_f =urlopen(link).read().decode(\"utf-8\")\n",
    "    fasta.write(single_f)\n",
    "\n",
    "fasta.close()\n",
    "# fasta = open('candidates.fa', 'r')\n",
    "# print(fasta.read())"
   ]
  },
  {
   "cell_type": "code",
   "execution_count": 22,
   "metadata": {},
   "outputs": [],
   "source": [
    "\n",
    "    \n",
    "#     line = myfile.readline()\n",
    "#     # Verify is header line\n",
    "#     assert line.startswith( \">\" )\n",
    "#     # Extract id -- whole line\n",
    "#     ## identifier = line[1:].rstrip( \"\\r\\n\" )\n",
    "#     # Extract id -- space\n",
    "#     identifier = line[1:].split()[0]\n",
    "\n",
    "\n",
    "#aa_codes=Utxt.readline().split()\n",
    "# for line in f:\n",
    "#     values=line.split()\n",
    "#     row=values[0]\n",
    "#     values=values[1:]\n",
    "#     for index in range(0,len(aa_codes)):\n",
    "#         blosum50[row,aa_codes[index]]=float(values[index])\n",
    "# f.close()\n",
    "\n",
    "\n",
    "\n",
    "\n",
    "\n",
    "\n",
    "# f = open('seqs.fasta','a')\n",
    "# for i in range(0,100):\n",
    "#     f.write(\">RandomMutationSeq_{}\\n\".format(i+1))\n",
    "#     for r in sequence:\n",
    "#         f.write(mutate(r))\n",
    "#     f.write(\"\\n\")\n",
    "    \n",
    "# f.close()"
   ]
  }
 ],
 "metadata": {
  "kernelspec": {
   "display_name": "Python 3",
   "language": "python",
   "name": "python3"
  },
  "language_info": {
   "codemirror_mode": {
    "name": "ipython",
    "version": 3
   },
   "file_extension": ".py",
   "mimetype": "text/x-python",
   "name": "python",
   "nbconvert_exporter": "python",
   "pygments_lexer": "ipython3",
   "version": "3.6.2"
  }
 },
 "nbformat": 4,
 "nbformat_minor": 2
}
