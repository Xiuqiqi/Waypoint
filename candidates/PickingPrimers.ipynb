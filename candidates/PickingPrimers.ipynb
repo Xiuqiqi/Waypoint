{
 "cells": [
  {
   "cell_type": "code",
   "execution_count": 44,
   "metadata": {},
   "outputs": [
    {
     "name": "stdout",
     "output_type": "stream",
     "text": [
      "/Users/kaiserlab/Documents/Xiuqi/primer3-2.4.0/src\n",
      "\n",
      "SEQUENCE_ID=example\n",
      "SEQUENCE_TEMPLATE=GTAGTCAGTAGACNATGACNACTGACGATGCAGACNACACACACACACACAGCACACAGGTATTAGTGGGCCATTCGATCCCGACCCAAATCGATAGCTACGATGACG\n",
      "SEQUENCE_TARGET=37,21\n",
      "PRIMER_TASK=generic\n",
      "PRIMER_PICK_LEFT_PRIMER=1\n",
      "PRIMER_PICK_INTERNAL_OLIGO=1\n",
      "PRIMER_PICK_RIGHT_PRIMER=1\n",
      "PRIMER_OPT_SIZE=18\n",
      "PRIMER_MIN_SIZE=15\n",
      "PRIMER_MAX_SIZE=21\n",
      "PRIMER_MAX_NS_ACCEPTED=1\n",
      "PRIMER_PRODUCT_SIZE_RANGE=75-100\n",
      "P3_FILE_FLAG=1\n",
      "SEQUENCE_INTERNAL_EXCLUDED_REGION=37,21\n",
      "PRIMER_EXPLAIN_FLAG=1\n",
      "PRIMER_LEFT_EXPLAIN=considered 65, too many Ns 17, low tm 48, ok 0\n",
      "PRIMER_RIGHT_EXPLAIN=considered 228, low tm 159, high tm 12, high hairpin stability 23, ok 34\n",
      "PRIMER_INTERNAL_EXPLAIN=considered 0, ok 0\n",
      "PRIMER_PAIR_EXPLAIN=considered 0, ok 0\n",
      "PRIMER_LEFT_NUM_RETURNED=0\n",
      "PRIMER_RIGHT_NUM_RETURNED=0\n",
      "PRIMER_INTERNAL_NUM_RETURNED=0\n",
      "PRIMER_PAIR_NUM_RETURNED=0\n",
      "=\n",
      "\n"
     ]
    }
   ],
   "source": [
    "#!/usr/bin/env python\n",
    "import sys\n",
    "import sh\n",
    "import subprocess\n",
    "\n",
    "#print(sh.pwd())\n",
    "#sh.cd('/Users/kaiserlab/Documents/Xiuqi/primer3-2.4.0/src')\n",
    "#print(sh.pwd())\n",
    "\n",
    "\n",
    "#subprocess.check_output([\"pwd\", \">\", \"/Users/kaiserlab/Documents/Xiuqi/tesst.txt\"])\n",
    "\n",
    "# sh.cd('/Users/kaiserlab/Documents/Xiuqi')\n",
    "# print(sh.pwd())\n",
    "\n",
    "# with open('myfile', \"w\") as outfile:\n",
    "#     a=subprocess.run([\"pwd\"],stdout=outfile)\n",
    "\n",
    "#print(a.decode(\"utf-8\"))\n",
    "\n",
    "sh.cd('/Users/kaiserlab/Documents/Xiuqi/primer3-2.4.0/src')\n",
    "print(sh.pwd())\n",
    "\n",
    "a = subprocess.check_output([\"./primer3_core\",\"../../example.txt\"])\n",
    "print(a.decode(\"utf-8\"))\n",
    "\n"
   ]
  },
  {
   "cell_type": "code",
   "execution_count": null,
   "metadata": {
    "collapsed": true
   },
   "outputs": [],
   "source": []
  }
 ],
 "metadata": {
  "kernelspec": {
   "display_name": "Python 3",
   "language": "python",
   "name": "python3"
  },
  "language_info": {
   "codemirror_mode": {
    "name": "ipython",
    "version": 3
   },
   "file_extension": ".py",
   "mimetype": "text/x-python",
   "name": "python",
   "nbconvert_exporter": "python",
   "pygments_lexer": "ipython3",
   "version": "3.6.2"
  }
 },
 "nbformat": 4,
 "nbformat_minor": 2
}
